{
 "cells": [
  {
   "cell_type": "code",
   "execution_count": 5,
   "metadata": {},
   "outputs": [
    {
     "name": "stdout",
     "output_type": "stream",
     "text": [
      "/home/RTB-Diseases-NER-Baseline\n"
     ]
    }
   ],
   "source": [
    "!pwd"
   ]
  },
  {
   "cell_type": "code",
   "execution_count": 2,
   "metadata": {
    "ExecuteTime": {
     "end_time": "2023-06-18T11:30:53.471816789Z",
     "start_time": "2023-06-18T11:30:53.196943153Z"
    },
    "collapsed": false,
    "jupyter": {
     "outputs_hidden": false
    }
   },
   "outputs": [
    {
     "name": "stdout",
     "output_type": "stream",
     "text": [
      "nvcc: NVIDIA (R) Cuda compiler driver\n",
      "Copyright (c) 2005-2022 NVIDIA Corporation\n",
      "Built on Wed_Jun__8_16:49:14_PDT_2022\n",
      "Cuda compilation tools, release 11.7, V11.7.99\n",
      "Build cuda_11.7.r11.7/compiler.31442593_0\n"
     ]
    }
   ],
   "source": [
    "!nvcc --version"
   ]
  },
  {
   "cell_type": "code",
   "execution_count": 3,
   "metadata": {
    "ExecuteTime": {
     "end_time": "2023-06-18T11:30:40.289586520Z",
     "start_time": "2023-06-18T11:30:40.262570178Z"
    },
    "collapsed": false,
    "jupyter": {
     "outputs_hidden": false
    }
   },
   "outputs": [
    {
     "name": "stdout",
     "output_type": "stream",
     "text": [
      "True\n",
      "2.0.1\n"
     ]
    }
   ],
   "source": [
    "import torch\n",
    "print(torch.cuda.is_available())\n",
    "print(torch.__version__)"
   ]
  },
  {
   "cell_type": "code",
   "execution_count": 6,
   "metadata": {
    "ExecuteTime": {
     "end_time": "2023-06-18T11:18:18.131767462Z",
     "start_time": "2023-06-18T11:17:46.836086630Z"
    },
    "collapsed": false,
    "jupyter": {
     "outputs_hidden": false
    }
   },
   "outputs": [
    {
     "name": "stdout",
     "output_type": "stream",
     "text": [
      "Found 5309 unique words (171311 in total)\n",
      "Found 128 unique characters\n",
      "Found 21 unique named entity tags\n",
      "{'B-ORG': 988, 'I-ORG': 1588, 'O': 148234, 'B-DISEASE': 1027, 'I-DISEASE': 1195, 'B-LOC': 863, 'I-LOC': 988, 'B-GPE': 2121, 'B-CROP': 3542, 'I-CROP': 819, 'B-DATE': 1501, 'B-PATHOGEN': 1675, 'I-PATHOGEN': 1917, 'I-DATE': 1540, 'B-PLANT_PART': 985, 'B-SYMPTOM': 389, 'I-SYMPTOM': 1398, 'I-GPE': 518, 'I-PLANT_PART': 23, '<START>': -1, '<STOP>': -2}\n",
      "3923 / 747 / 742 sentences in train / dev / test.\n",
      "word_to_id:  5309\n",
      "char_mode: LSTM, out_channels: 25, hidden_dim: 200, \n",
      "================================================================================\n",
      "epoch = 1.\n",
      "================================================================================\n",
      "1000 :  tensor(0.6611, device='cuda:0')\n",
      "^C\n",
      "Traceback (most recent call last):\n",
      "  File \"/home/RTB-Diseases-NER-Baseline/train.py\", line 430, in <module>\n",
      "    neg_log_likelihood.backward()\n",
      "  File \"/opt/conda/lib/python3.10/site-packages/torch/_tensor.py\", line 487, in backward\n",
      "    torch.autograd.backward(\n",
      "  File \"/opt/conda/lib/python3.10/site-packages/torch/autograd/__init__.py\", line 200, in backward\n",
      "    Variable._execution_engine.run_backward(  # Calls into the C++ engine to run the backward pass\n",
      "KeyboardInterrupt\n"
     ]
    }
   ],
   "source": [
    "! python train.py --train dataset/ciat_ner_diseases-output-iob-tags-30_train.txt --dev dataset/ciat_ner_diseases-output-iob-tags-30_validate.txt --test dataset/ciat_ner_diseases-output-iob-tags-30_test.txt --char_mode 'LSTM'"
   ]
  },
  {
   "cell_type": "code",
   "execution_count": null,
   "metadata": {},
   "outputs": [],
   "source": []
  }
 ],
 "metadata": {
  "kernelspec": {
   "display_name": "Python 3 (ipykernel)",
   "language": "python",
   "name": "python3"
  },
  "language_info": {
   "codemirror_mode": {
    "name": "ipython",
    "version": 3
   },
   "file_extension": ".py",
   "mimetype": "text/x-python",
   "name": "python",
   "nbconvert_exporter": "python",
   "pygments_lexer": "ipython3",
   "version": "3.10.11"
  }
 },
 "nbformat": 4,
 "nbformat_minor": 4
}
