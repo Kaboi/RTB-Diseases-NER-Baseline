{
 "cells": [
  {
   "cell_type": "code",
   "execution_count": 4,
   "metadata": {},
   "outputs": [
    {
     "name": "stdout",
     "output_type": "stream",
     "text": [
      "/home/RTB-Diseases-NER-Baseline\n"
     ]
    }
   ],
   "source": [
    "!pwd"
   ]
  },
  {
   "cell_type": "code",
   "execution_count": null,
   "metadata": {
    "collapsed": false,
    "jupyter": {
     "outputs_hidden": false
    }
   },
   "outputs": [],
   "source": [
    "!nvcc --version"
   ]
  },
  {
   "cell_type": "code",
   "execution_count": null,
   "metadata": {
    "ExecuteTime": {
     "end_time": "2023-06-18T11:30:40.289586520Z",
     "start_time": "2023-06-18T11:30:40.262570178Z"
    },
    "collapsed": false,
    "jupyter": {
     "outputs_hidden": false
    }
   },
   "outputs": [],
   "source": [
    "import torch\n",
    "print(torch.cuda.is_available())\n",
    "print(torch.__version__)"
   ]
  },
  {
   "cell_type": "code",
   "execution_count": 1,
   "metadata": {},
   "outputs": [
    {
     "name": "stdout",
     "output_type": "stream",
     "text": [
      "Collecting wandb\n",
      "  Using cached wandb-0.15.4-py3-none-any.whl (2.1 MB)\n",
      "Requirement already satisfied: GitPython!=3.1.29,>=1.0.0 in /opt/conda/lib/python3.10/site-packages (from wandb) (3.1.31)\n",
      "Collecting sentry-sdk>=1.0.0\n",
      "  Using cached sentry_sdk-1.25.1-py2.py3-none-any.whl (206 kB)\n",
      "Collecting docker-pycreds>=0.4.0\n",
      "  Using cached docker_pycreds-0.4.0-py2.py3-none-any.whl (9.0 kB)\n",
      "Collecting appdirs>=1.4.3\n",
      "  Using cached appdirs-1.4.4-py2.py3-none-any.whl (9.6 kB)\n",
      "Requirement already satisfied: PyYAML in /opt/conda/lib/python3.10/site-packages (from wandb) (6.0)\n",
      "Requirement already satisfied: Click!=8.0.0,>=7.0 in /opt/conda/lib/python3.10/site-packages (from wandb) (8.1.3)\n",
      "Collecting pathtools\n",
      "  Using cached pathtools-0.1.2-py3-none-any.whl\n",
      "Collecting protobuf!=4.21.0,<5,>=3.19.0\n",
      "  Using cached protobuf-4.23.3-cp37-abi3-manylinux2014_x86_64.whl (304 kB)\n",
      "Collecting setproctitle\n",
      "  Using cached setproctitle-1.3.2-cp310-cp310-manylinux_2_5_x86_64.manylinux1_x86_64.manylinux_2_17_x86_64.manylinux2014_x86_64.whl (30 kB)\n",
      "Requirement already satisfied: setuptools in /opt/conda/lib/python3.10/site-packages (from wandb) (65.6.3)\n",
      "Requirement already satisfied: requests<3,>=2.0.0 in /opt/conda/lib/python3.10/site-packages (from wandb) (2.29.0)\n",
      "Requirement already satisfied: psutil>=5.0.0 in /opt/conda/lib/python3.10/site-packages (from wandb) (5.9.0)\n",
      "Requirement already satisfied: six>=1.4.0 in /opt/conda/lib/python3.10/site-packages (from docker-pycreds>=0.4.0->wandb) (1.16.0)\n",
      "Requirement already satisfied: gitdb<5,>=4.0.1 in /opt/conda/lib/python3.10/site-packages (from GitPython!=3.1.29,>=1.0.0->wandb) (4.0.10)\n",
      "Requirement already satisfied: urllib3<1.27,>=1.21.1 in /opt/conda/lib/python3.10/site-packages (from requests<3,>=2.0.0->wandb) (1.26.15)\n",
      "Requirement already satisfied: idna<4,>=2.5 in /opt/conda/lib/python3.10/site-packages (from requests<3,>=2.0.0->wandb) (3.4)\n",
      "Requirement already satisfied: charset-normalizer<4,>=2 in /opt/conda/lib/python3.10/site-packages (from requests<3,>=2.0.0->wandb) (2.0.4)\n",
      "Requirement already satisfied: certifi>=2017.4.17 in /opt/conda/lib/python3.10/site-packages (from requests<3,>=2.0.0->wandb) (2023.5.7)\n",
      "Requirement already satisfied: smmap<6,>=3.0.1 in /opt/conda/lib/python3.10/site-packages (from gitdb<5,>=4.0.1->GitPython!=3.1.29,>=1.0.0->wandb) (3.0.5)\n",
      "Installing collected packages: pathtools, appdirs, setproctitle, sentry-sdk, protobuf, docker-pycreds, wandb\n",
      "Successfully installed appdirs-1.4.4 docker-pycreds-0.4.0 pathtools-0.1.2 protobuf-4.23.3 sentry-sdk-1.25.1 setproctitle-1.3.2 wandb-0.15.4\n",
      "\u001b[33mWARNING: Running pip as the 'root' user can result in broken permissions and conflicting behaviour with the system package manager. It is recommended to use a virtual environment instead: https://pip.pypa.io/warnings/venv\u001b[0m\u001b[33m\n",
      "\u001b[0m"
     ]
    }
   ],
   "source": [
    "!pip install wandb"
   ]
  },
  {
   "cell_type": "code",
   "execution_count": 2,
   "metadata": {
    "collapsed": false,
    "jupyter": {
     "outputs_hidden": false
    }
   },
   "outputs": [
    {
     "name": "stderr",
     "output_type": "stream",
     "text": [
      "\u001b[34m\u001b[1mwandb\u001b[0m: Currently logged in as: \u001b[33mleroykabs\u001b[0m. Use \u001b[1m`wandb login --relogin`\u001b[0m to force relogin\n"
     ]
    },
    {
     "data": {
      "text/plain": [
       "True"
      ]
     },
     "execution_count": 2,
     "metadata": {},
     "output_type": "execute_result"
    }
   ],
   "source": [
    "import wandb\n",
    "wandb.login()"
   ]
  },
  {
   "cell_type": "code",
   "execution_count": null,
   "metadata": {
    "collapsed": false,
    "jupyter": {
     "outputs_hidden": false
    }
   },
   "outputs": [],
   "source": [
    "! python train.py --train dataset/ciat_ner_diseases-output-iob-tags-30-train.txt --dev dataset/ciat_ner_diseases-output-iob-tags-30-validate.txt --test dataset/ciat_ner_diseases-output-iob-tags-30-test.txt --char_mode 'LSTM' --name 'Baseline-30'"
   ]
  },
  {
   "cell_type": "code",
   "execution_count": 7,
   "metadata": {
    "collapsed": false,
    "jupyter": {
     "outputs_hidden": false
    }
   },
   "outputs": [
    {
     "name": "stdout",
     "output_type": "stream",
     "text": [
      "\u001b[34m\u001b[1mwandb\u001b[0m: Currently logged in as: \u001b[33mleroykabs\u001b[0m. Use \u001b[1m`wandb login --relogin`\u001b[0m to force relogin\n",
      "\u001b[34m\u001b[1mwandb\u001b[0m: Tracking run with wandb version 0.15.4\n",
      "\u001b[34m\u001b[1mwandb\u001b[0m: Run data is saved locally in \u001b[35m\u001b[1m/home/RTB-Diseases-NER-Baseline/wandb/run-20230619_131711-3xdpemdo\u001b[0m\n",
      "\u001b[34m\u001b[1mwandb\u001b[0m: Run \u001b[1m`wandb offline`\u001b[0m to turn off syncing.\n",
      "\u001b[34m\u001b[1mwandb\u001b[0m: Syncing run \u001b[33mBaseline-30-20230619131710-eval\u001b[0m\n",
      "\u001b[34m\u001b[1mwandb\u001b[0m: ⭐️ View project at \u001b[34m\u001b[4mhttps://wandb.ai/leroykabs/RTB-NER-Transfer-Learning\u001b[0m\n",
      "\u001b[34m\u001b[1mwandb\u001b[0m: 🚀 View run at \u001b[34m\u001b[4mhttps://wandb.ai/leroykabs/RTB-NER-Transfer-Learning/runs/3xdpemdo\u001b[0m\n",
      "processed 32227 tokens with 2469 phrases; found: 2436 phrases; correct: 2001.\n",
      "accuracy:  96.03%; precision:  82.14%; recall:  81.04%; FB1:  81.59\n",
      "CROP: precision:  91.11%; recall:  92.51%; FB1:  91.81  664\n",
      "DATE: precision:  90.57%; recall:  92.12%; FB1:  91.34  297\n",
      "DISEASE: precision:  82.90%; recall:  77.67%; FB1:  80.20  193\n",
      "GPE: precision:  73.27%; recall:  87.14%; FB1:  79.60  490\n",
      "LOC: precision:  75.51%; recall:  59.20%; FB1:  66.37  98\n",
      "ORG: precision:  80.59%; recall:  63.13%; FB1:  70.80  170\n",
      "PATHOGEN: precision:  83.33%; recall:  72.88%; FB1:  77.76  258\n",
      "PLANT_PART: precision:  81.50%; recall:  93.14%; FB1:  86.93  200\n",
      "SYMPTOM: precision:  28.79%; recall:  20.43%; FB1:  23.90  66\n",
      "ID     NE  Total      O B-CROP  B-GPEI-PATHOGENB-PATHOGEN  I-ORG I-DATE B-DATEI-SYMPTOMI-DISEASEB-DISEASE  B-ORG  I-LOCB-PLANT_PART  B-LOC I-CROP  I-GPEB-SYMPTOMI-PLANT_PART  Percent\n",
      " 0      Otensor(27761.)27442.0   34.0   56.0   21.0   12.0   34.0   14.0   19.0   29.0   17.0    8.0   21.0   13.0    7.0    6.0    9.0   10.0    7.0    2.0   98.851\n",
      " 1 B-CROPtensor(654.)   15.0  605.0    4.0    0.0    8.0    0.0    0.0    0.0    0.0    6.0    2.0    0.0    0.0    0.0    1.0   12.0    0.0    1.0    0.0   92.508\n",
      " 2  B-GPEtensor(412.)   20.0    1.0  372.0    0.0    1.0    3.0    0.0    0.0    0.0    0.0    0.0    2.0    2.0    0.0    9.0    0.0    2.0    0.0    0.0   90.291\n",
      " 3I-PATHOGENtensor(348.)   62.0    0.0    0.0  260.0    2.0    0.0    0.0    0.0   16.0    1.0    0.0    0.0    0.0    0.0    0.0    7.0    0.0    0.0    0.0   74.713\n",
      " 4B-PATHOGENtensor(295.)   48.0    7.0    4.0    2.0  229.0    0.0    0.0    0.0    2.0    0.0    1.0    0.0    0.0    0.0    0.0    0.0    0.0    2.0    0.0   77.627\n",
      " 5  I-ORGtensor(355.)   63.0    2.0    2.0    0.0    0.0  283.0    0.0    0.0    0.0    0.0    0.0    2.0    0.0    0.0    0.0    0.0    3.0    0.0    0.0   79.718\n",
      " 6 I-DATEtensor(235.)    7.0    0.0    0.0    0.0    0.0    0.0  225.0    3.0    0.0    0.0    0.0    0.0    0.0    0.0    0.0    0.0    0.0    0.0    0.0   95.745\n",
      " 7 B-DATEtensor(292.)    7.0    0.0    1.0    0.0    0.0    0.0    9.0  275.0    0.0    0.0    0.0    0.0    0.0    0.0    0.0    0.0    0.0    0.0    0.0   94.178\n",
      " 8I-SYMPTOMtensor(415.)  183.0    3.0    0.0    0.0    0.0    0.0    0.0    0.0  175.0    4.0    3.0    0.0    0.0   26.0    0.0    3.0    0.0   18.0    0.0   42.169\n",
      " 9I-DISEASEtensor(247.)   30.0    1.0    0.0    4.0    0.0    0.0    0.0    0.0    1.0  203.0    7.0    0.0    0.0    0.0    0.0    1.0    0.0    0.0    0.0   82.186\n",
      "10B-DISEASEtensor(206.)   26.0    1.0    0.0    0.0    4.0    0.0    0.0    0.0    1.0    4.0  170.0    0.0    0.0    0.0    0.0    0.0    0.0    0.0    0.0   82.524\n",
      "11  B-ORGtensor(217.)   47.0    1.0    8.0    0.0    2.0   15.0    0.0    0.0    0.0    0.0    0.0  144.0    0.0    0.0    0.0    0.0    0.0    0.0    0.0   66.359\n",
      "12  I-LOCtensor(115.)    5.0    0.0    3.0    0.0    0.0    0.0    0.0    0.0    0.0    0.0    0.0    0.0   93.0    0.0    2.0    1.0   11.0    0.0    0.0   80.870\n",
      "13B-PLANT_PARTtensor(175.)    7.0    0.0    0.0    0.0    0.0    0.0    0.0    0.0    2.0    0.0    1.0    0.0    0.0  165.0    0.0    0.0    0.0    0.0    0.0   94.286\n",
      "14  B-LOCtensor(125.)    7.0    0.0   34.0    0.0    0.0    0.0    0.0    0.0    0.0    0.0    0.0    1.0    3.0    0.0   80.0    0.0    0.0    0.0    0.0   64.000\n",
      "15 I-CROPtensor(120.)    2.0    6.0    0.0    4.0    0.0    0.0    0.0    0.0    1.0    0.0    0.0    0.0    1.0    0.0    0.0  106.0    0.0    0.0    0.0   88.333\n",
      "16  I-GPEtensor(160.)   40.0    0.0    6.0    0.0    0.0   14.0    0.0    0.0    0.0    0.0    0.0    0.0   17.0    0.0    0.0    0.0   83.0    0.0    0.0   51.875\n",
      "17B-SYMPTOMtensor(93.)   42.0    2.0    0.0    0.0    0.0    0.0    0.0    0.0    8.0    1.0    1.0    0.0    0.0    1.0    0.0    0.0    0.0   38.0    0.0   40.860\n",
      "18I-PLANT_PARTtensor(2.)    0.0    0.0    0.0    0.0    0.0    0.0    0.0    0.0    0.0    1.0    0.0    0.0    0.0    1.0    0.0    0.0    0.0    0.0    0.0    0.000\n",
      "\n",
      "\n",
      "\u001b[34m\u001b[1mwandb\u001b[0m: Waiting for W&B process to finish... \u001b[32m(success).\u001b[0m\n",
      "\u001b[34m\u001b[1mwandb\u001b[0m: 🚀 View run \u001b[33mBaseline-30-20230619131710-eval\u001b[0m at: \u001b[34m\u001b[4mhttps://wandb.ai/leroykabs/RTB-NER-Transfer-Learning/runs/3xdpemdo\u001b[0m\n",
      "\u001b[34m\u001b[1mwandb\u001b[0m: Synced 6 W&B file(s), 1 media file(s), 3 artifact file(s) and 0 other file(s)\n",
      "\u001b[34m\u001b[1mwandb\u001b[0m: Find logs at: \u001b[35m\u001b[1m./wandb/run-20230619_131711-3xdpemdo/logs\u001b[0m\n",
      "35.70398736000061\n"
     ]
    }
   ],
   "source": [
    "! python eval.py --test dataset/ciat_ner_diseases-output-iob-tags-30-test.txt --char_mode 'LSTM' --model_path models/Baseline-30"
   ]
  },
  {
   "cell_type": "code",
   "execution_count": null,
   "metadata": {},
   "outputs": [],
   "source": []
  }
 ],
 "metadata": {
  "kernelspec": {
   "display_name": "Python 3 (ipykernel)",
   "language": "python",
   "name": "python3"
  },
  "language_info": {
   "codemirror_mode": {
    "name": "ipython",
    "version": 3
   },
   "file_extension": ".py",
   "mimetype": "text/x-python",
   "name": "python",
   "nbconvert_exporter": "python",
   "pygments_lexer": "ipython3",
   "version": "3.10.11"
  }
 },
 "nbformat": 4,
 "nbformat_minor": 4
}
