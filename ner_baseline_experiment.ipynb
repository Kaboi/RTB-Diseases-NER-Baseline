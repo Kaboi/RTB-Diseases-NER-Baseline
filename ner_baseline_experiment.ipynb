{
 "cells": [
  {
   "cell_type": "code",
   "execution_count": 1,
   "metadata": {
    "collapsed": true,
    "ExecuteTime": {
     "end_time": "2023-06-18T11:14:54.771611659Z",
     "start_time": "2023-06-18T11:14:54.632929013Z"
    }
   },
   "outputs": [
    {
     "name": "stdout",
     "output_type": "stream",
     "text": [
      "/home/leroy/Dev/Code/RTB-Diseases-NER-Baseline\r\n"
     ]
    }
   ],
   "source": [
    "!pwd"
   ]
  },
  {
   "cell_type": "code",
   "execution_count": 12,
   "outputs": [
    {
     "name": "stdout",
     "output_type": "stream",
     "text": [
      "/bin/bash: nvcc: command not found\r\n"
     ]
    }
   ],
   "source": [
    "!nvcc --version"
   ],
   "metadata": {
    "collapsed": false,
    "ExecuteTime": {
     "end_time": "2023-06-18T11:30:53.471816789Z",
     "start_time": "2023-06-18T11:30:53.196943153Z"
    }
   }
  },
  {
   "cell_type": "code",
   "execution_count": 11,
   "outputs": [
    {
     "name": "stdout",
     "output_type": "stream",
     "text": [
      "False\n",
      "2.0.0\n"
     ]
    }
   ],
   "source": [
    "import torch\n",
    "print(torch.cuda.is_available())\n",
    "print(torch.__version__)"
   ],
   "metadata": {
    "collapsed": false,
    "ExecuteTime": {
     "end_time": "2023-06-18T11:30:40.289586520Z",
     "start_time": "2023-06-18T11:30:40.262570178Z"
    }
   }
  },
  {
   "cell_type": "code",
   "execution_count": 3,
   "outputs": [
    {
     "name": "stdout",
     "output_type": "stream",
     "text": [
      "Collecting matplotlib\r\n",
      "  Downloading matplotlib-3.7.1-cp38-cp38-manylinux_2_12_x86_64.manylinux2010_x86_64.whl (9.2 MB)\r\n",
      "\u001B[2K     \u001B[90m━━━━━━━━━━━━━━━━━━━━━━━━━━━━━━━━━━━━━━━━\u001B[0m \u001B[32m9.2/9.2 MB\u001B[0m \u001B[31m1.1 MB/s\u001B[0m eta \u001B[36m0:00:00\u001B[0m00:01\u001B[0m00:01\u001B[0m0m\r\n",
      "\u001B[?25hCollecting contourpy>=1.0.1 (from matplotlib)\r\n",
      "  Downloading contourpy-1.1.0-cp38-cp38-manylinux_2_17_x86_64.manylinux2014_x86_64.whl (300 kB)\r\n",
      "\u001B[2K     \u001B[90m━━━━━━━━━━━━━━━━━━━━━━━━━━━━━━━━━━━━━\u001B[0m \u001B[32m300.4/300.4 kB\u001B[0m \u001B[31m876.7 kB/s\u001B[0m eta \u001B[36m0:00:00\u001B[0ma \u001B[36m0:00:01\u001B[0m\r\n",
      "\u001B[?25hCollecting cycler>=0.10 (from matplotlib)\r\n",
      "  Using cached cycler-0.11.0-py3-none-any.whl (6.4 kB)\r\n",
      "Collecting fonttools>=4.22.0 (from matplotlib)\r\n",
      "  Downloading fonttools-4.40.0-cp38-cp38-manylinux_2_17_x86_64.manylinux2014_x86_64.whl (4.4 MB)\r\n",
      "\u001B[2K     \u001B[90m━━━━━━━━━━━━━━━━━━━━━━━━━━━━━━━━━━━━━━━━\u001B[0m \u001B[32m4.4/4.4 MB\u001B[0m \u001B[31m716.9 kB/s\u001B[0m eta \u001B[36m0:00:00\u001B[0m00:01\u001B[0m00:01\u001B[0m\r\n",
      "\u001B[?25hCollecting kiwisolver>=1.0.1 (from matplotlib)\r\n",
      "  Downloading kiwisolver-1.4.4-cp38-cp38-manylinux_2_5_x86_64.manylinux1_x86_64.whl (1.2 MB)\r\n",
      "\u001B[2K     \u001B[90m━━━━━━━━━━━━━━━━━━━━━━━━━━━━━━━━━━━━━━━━\u001B[0m \u001B[32m1.2/1.2 MB\u001B[0m \u001B[31m544.2 kB/s\u001B[0m eta \u001B[36m0:00:00\u001B[0m00:01\u001B[0m00:01\u001B[0m\r\n",
      "\u001B[?25hRequirement already satisfied: numpy>=1.20 in /home/leroy/anaconda3/envs/deep_gpu/lib/python3.8/site-packages (from matplotlib) (1.24.3)\r\n",
      "Requirement already satisfied: packaging>=20.0 in /home/leroy/anaconda3/envs/deep_gpu/lib/python3.8/site-packages (from matplotlib) (23.1)\r\n",
      "Requirement already satisfied: pillow>=6.2.0 in /home/leroy/anaconda3/envs/deep_gpu/lib/python3.8/site-packages (from matplotlib) (9.5.0)\r\n",
      "Collecting pyparsing>=2.3.1 (from matplotlib)\r\n",
      "  Using cached pyparsing-3.0.9-py3-none-any.whl (98 kB)\r\n",
      "Requirement already satisfied: python-dateutil>=2.7 in /home/leroy/anaconda3/envs/deep_gpu/lib/python3.8/site-packages (from matplotlib) (2.8.2)\r\n",
      "Requirement already satisfied: importlib-resources>=3.2.0 in /home/leroy/anaconda3/envs/deep_gpu/lib/python3.8/site-packages (from matplotlib) (5.12.0)\r\n",
      "Requirement already satisfied: zipp>=3.1.0 in /home/leroy/anaconda3/envs/deep_gpu/lib/python3.8/site-packages (from importlib-resources>=3.2.0->matplotlib) (3.15.0)\r\n",
      "Requirement already satisfied: six>=1.5 in /home/leroy/anaconda3/envs/deep_gpu/lib/python3.8/site-packages (from python-dateutil>=2.7->matplotlib) (1.16.0)\r\n",
      "Installing collected packages: pyparsing, kiwisolver, fonttools, cycler, contourpy, matplotlib\r\n",
      "Successfully installed contourpy-1.1.0 cycler-0.11.0 fonttools-4.40.0 kiwisolver-1.4.4 matplotlib-3.7.1 pyparsing-3.0.9\r\n"
     ]
    }
   ],
   "source": [
    "! pip install matplotlib"
   ],
   "metadata": {
    "collapsed": false,
    "ExecuteTime": {
     "end_time": "2023-06-18T11:16:19.967922237Z",
     "start_time": "2023-06-18T11:15:57.279792891Z"
    }
   }
  },
  {
   "cell_type": "code",
   "execution_count": 5,
   "outputs": [
    {
     "name": "stdout",
     "output_type": "stream",
     "text": [
      "Found 5309 unique words (171311 in total)\r\n",
      "Found 128 unique characters\r\n",
      "Found 21 unique named entity tags\r\n",
      "{'B-ORG': 988, 'I-ORG': 1588, 'O': 148234, 'B-DISEASE': 1027, 'I-DISEASE': 1195, 'B-LOC': 863, 'I-LOC': 988, 'B-GPE': 2121, 'B-CROP': 3542, 'I-CROP': 819, 'B-DATE': 1501, 'B-PATHOGEN': 1675, 'I-PATHOGEN': 1917, 'I-DATE': 1540, 'B-PLANT_PART': 985, 'B-SYMPTOM': 389, 'I-SYMPTOM': 1398, 'I-GPE': 518, 'I-PLANT_PART': 23, '<START>': -1, '<STOP>': -2}\r\n",
      "3923 / 747 / 742 sentences in train / dev / test.\r\n",
      "word_to_id:  5309\r\n",
      "char_mode: LSTM, out_channels: 25, hidden_dim: 200, \r\n",
      "================================================================================\r\n",
      "epoch = 1.\r\n",
      "================================================================================\r\n",
      "1000 :  tensor(0.6651)\r\n",
      "^C\r\n",
      "Traceback (most recent call last):\r\n",
      "  File \"train.py\", line 430, in <module>\r\n",
      "    neg_log_likelihood.backward()\r\n",
      "  File \"/home/leroy/anaconda3/envs/deep_gpu/lib/python3.8/site-packages/torch/_tensor.py\", line 487, in backward\r\n",
      "    torch.autograd.backward(\r\n",
      "  File \"/home/leroy/anaconda3/envs/deep_gpu/lib/python3.8/site-packages/torch/autograd/__init__.py\", line 200, in backward\r\n",
      "    Variable._execution_engine.run_backward(  # Calls into the C++ engine to run the backward pass\r\n",
      "KeyboardInterrupt\r\n"
     ]
    }
   ],
   "source": [
    "! python train.py --train dataset/ciat_ner_diseases-output-iob-tags-30_train.txt --dev dataset/ciat_ner_diseases-output-iob-tags-30_validate.txt --test dataset/ciat_ner_diseases-output-iob-tags-30_test.txt --char_mode 'LSTM'"
   ],
   "metadata": {
    "collapsed": false,
    "ExecuteTime": {
     "end_time": "2023-06-18T11:18:18.131767462Z",
     "start_time": "2023-06-18T11:17:46.836086630Z"
    }
   }
  }
 ],
 "metadata": {
  "kernelspec": {
   "display_name": "Python 3",
   "language": "python",
   "name": "python3"
  },
  "language_info": {
   "codemirror_mode": {
    "name": "ipython",
    "version": 2
   },
   "file_extension": ".py",
   "mimetype": "text/x-python",
   "name": "python",
   "nbconvert_exporter": "python",
   "pygments_lexer": "ipython2",
   "version": "2.7.6"
  }
 },
 "nbformat": 4,
 "nbformat_minor": 0
}
