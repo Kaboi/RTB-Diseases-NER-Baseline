{
 "cells": [
  {
   "cell_type": "code",
   "execution_count": null,
   "metadata": {},
   "outputs": [],
   "source": [
    "!pwd"
   ]
  },
  {
   "cell_type": "code",
   "execution_count": null,
   "metadata": {
    "collapsed": false,
    "jupyter": {
     "outputs_hidden": false
    }
   },
   "outputs": [],
   "source": [
    "!nvcc --version"
   ]
  },
  {
   "cell_type": "code",
   "execution_count": null,
   "metadata": {
    "ExecuteTime": {
     "end_time": "2023-06-18T11:30:40.289586520Z",
     "start_time": "2023-06-18T11:30:40.262570178Z"
    },
    "collapsed": false,
    "jupyter": {
     "outputs_hidden": false
    }
   },
   "outputs": [],
   "source": [
    "import torch\n",
    "print(torch.cuda.is_available())\n",
    "print(torch.__version__)"
   ]
  },
  {
   "cell_type": "code",
   "execution_count": null,
   "metadata": {},
   "outputs": [],
   "source": [
    "!pip install wandb"
   ]
  },
  {
   "cell_type": "code",
   "execution_count": null,
   "metadata": {
    "collapsed": false,
    "jupyter": {
     "outputs_hidden": false
    }
   },
   "outputs": [],
   "source": [
    "import wandb\n",
    "wandb.login()"
   ]
  },
  {
   "cell_type": "code",
   "execution_count": null,
   "metadata": {
    "collapsed": false,
    "jupyter": {
     "outputs_hidden": false
    }
   },
   "outputs": [],
   "source": [
    "# ! python train.py --train dataset/ciat_ner_diseases-output-iob-tags-30-train.txt --dev dataset/ciat_ner_diseases-output-iob-tags-30-validate.txt --test dataset/ciat_ner_diseases-output-iob-tags-30-test.txt --char_mode 'LSTM' --name 'Baseline-30'"
   ]
  },
  {
   "cell_type": "code",
   "execution_count": null,
   "metadata": {
    "collapsed": false,
    "jupyter": {
     "outputs_hidden": false
    }
   },
   "outputs": [],
   "source": [
    "# ! python eval.py --test dataset/ciat_ner_diseases-output-iob-tags-30-test.txt --char_mode 'LSTM' --model_path models/Baseline-30"
   ]
  },
  {
   "cell_type": "code",
   "execution_count": null,
   "metadata": {},
   "outputs": [],
   "source": [
    "# ! python eval-scikit.py --test dataset/ciat_ner_diseases-output-iob-tags-30-test.txt --char_mode 'LSTM' --model_path models/Baseline-30"
   ]
  },
  {
   "cell_type": "code",
   "execution_count": null,
   "metadata": {},
   "outputs": [],
   "source": [
    "train_set_versions = ['30', '100', '200', '400', 'full_doc']"
   ]
  },
  {
   "cell_type": "code",
   "execution_count": null,
   "outputs": [],
   "source": [
    "for version in train_set_versions:\n",
    "    get_ipython().system_raw(\"python train.py --train dataset/ciat_ner_diseases-output-iob-tags-{}-train.txt --dev dataset/ciat_ner_diseases-output-iob-tags-{}-validate.txt --test dataset/ciat_ner_diseases-output-iob-tags-{}-test.txt --char_mode 'LSTM' --name 'Baseline-{}'\".format(version, version, version, version))\n",
    "    get_ipython().system_raw(\"python eval.py --test dataset/ciat_ner_diseases-output-iob-tags-{}-test.txt --char_mode 'LSTM' --model_path models/Baseline-{}\".format(version, version))\n",
    "    get_ipython().system_raw(\"python eval-scikit.py --test dataset/ciat_ner_diseases-output-iob-tags-{}-test.txt --char_mode 'LSTM' --model_path models/Baseline-{}\".format(version, version))"
   ],
   "metadata": {
    "collapsed": false
   }
  }
 ],
 "metadata": {
  "kernelspec": {
   "display_name": "Python 3 (ipykernel)",
   "language": "python",
   "name": "python3"
  },
  "language_info": {
   "codemirror_mode": {
    "name": "ipython",
    "version": 3
   },
   "file_extension": ".py",
   "mimetype": "text/x-python",
   "name": "python",
   "nbconvert_exporter": "python",
   "pygments_lexer": "ipython3",
   "version": "3.10.11"
  }
 },
 "nbformat": 4,
 "nbformat_minor": 4
}
